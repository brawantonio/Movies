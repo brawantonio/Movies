{
 "cells": [
  {
   "cell_type": "code",
   "execution_count": 1,
   "metadata": {
    "collapsed": true
   },
   "outputs": [],
   "source": [
    "# coding: utf-8\n",
    "import re\n",
    "import hashlib\n",
    "import numpy as np\n",
    "import glob\n",
    "import nltk\n",
    "import chardet"
   ]
  },
  {
   "cell_type": "markdown",
   "metadata": {},
   "source": [
    "## Directorios de lectura y escritura"
   ]
  },
  {
   "cell_type": "code",
   "execution_count": 2,
   "metadata": {
    "collapsed": true
   },
   "outputs": [],
   "source": [
    "movies = glob.glob('C:/Users/hp/Documents/Movies/datasets/peli_*')\n",
    "root_scripts = 'C:/Users/hp/Documents/Movies/clean_scripts/'\n",
    "root_personajes = 'C:/Users/hp/Documents/Movies/personajes/'\n",
    "root_dialogos = 'C:/Users/hp/Documents/Movies/dialogos/'"
   ]
  },
  {
   "cell_type": "markdown",
   "metadata": {},
   "source": [
    "## Glosarios"
   ]
  },
  {
   "cell_type": "code",
   "execution_count": 3,
   "metadata": {
    "collapsed": true
   },
   "outputs": [],
   "source": [
    "annotations=['INT', 'EXT', 'END', 'FADE', 'THE', 'OF', 'CUT', 'SCENE', 'TITLE', 'SCENES', 'TIGHT', 'DISSOLVE', \n",
    "             'OK', 'PHOTO', 'SCREEN', 'INTERCUT', 'SHOT', 'CLOSE']\n",
    "nouns = ['NN', 'NNP', 'NNS']\n",
    "N = set(nouns)\n",
    "A = set(annotations)"
   ]
  },
  {
   "cell_type": "markdown",
   "metadata": {},
   "source": [
    "## Funciones: limpiar guión, guardar archivo"
   ]
  },
  {
   "cell_type": "code",
   "execution_count": 4,
   "metadata": {
    "collapsed": true
   },
   "outputs": [],
   "source": [
    "def save(file, prefix, sufix): \n",
    "    name = prefix + sufix\n",
    "    newfile = open(name, 'w')\n",
    "    for line in file:\n",
    "        newfile.write(u'%s \\n' % line)\n",
    "    newfile.close()"
   ]
  },
  {
   "cell_type": "code",
   "execution_count": 5,
   "metadata": {
    "collapsed": true
   },
   "outputs": [],
   "source": [
    "def cleanhtml(raw_html):\n",
    "    cleanr = re.compile('<.*?>')\n",
    "    cleantext = re.sub(cleanr, '', raw_html)\n",
    "    return cleantext\n",
    "\n",
    "def clean(script):\n",
    "    cleanmovie=[]\n",
    "    for line in script:\n",
    "        line = cleanhtml(line)\n",
    "        line = re.sub(r'\\n', '', line)\n",
    "        cleanmovie= np.append(cleanmovie, line.strip())\n",
    "    cleanmovie=cleanmovie.tolist()\n",
    "    return (cleanmovie)"
   ]
  },
  {
   "cell_type": "code",
   "execution_count": 6,
   "metadata": {
    "collapsed": true
   },
   "outputs": [],
   "source": [
    "def find_all_capital(line):\n",
    "    patt = re.findall(r'[A-Z]+', line); discriminant = re.findall(r'[a-z]+', line) + re.findall(r'^[0-9]', line)\n",
    "    aux=''\n",
    "    if(patt and not discriminant): \n",
    "        for string in patt:\n",
    "            if len(string)>1 : aux = aux + ' ' +string.strip()\n",
    "        return aux\n",
    "    else: return False\n",
    "\n",
    "def find_one_capital(line):\n",
    "    patt = 0\n",
    "    if line.count(' ')==1: patt = re.findall(r'[A-Z][a-z]+', line); discriminant = re.findall(r'(?<= )+[a-z]+\\b', line)\n",
    "        \n",
    "    aux=''\n",
    "    if(patt and not discriminant): \n",
    "        for string in patt:\n",
    "            if len(string)>1 : aux = aux + ' ' +string.strip()\n",
    "        return aux\n",
    "    else: return False"
   ]
  },
  {
   "cell_type": "code",
   "execution_count": 7,
   "metadata": {
    "collapsed": true
   },
   "outputs": [],
   "source": [
    "def find_nouns(line):\n",
    "    line=line.lower()\n",
    "    tokens = nltk.word_tokenize(line)\n",
    "    token_tags=nltk.pos_tag(tokens)\n",
    "    tags = []\n",
    "    for touple in token_tags: tags = tags + [touple[1]]\n",
    "    TA = set(tags)\n",
    "    if(TA.intersection(N)): return 1\n",
    "    else: return 0"
   ]
  },
  {
   "cell_type": "code",
   "execution_count": 8,
   "metadata": {
    "collapsed": true
   },
   "outputs": [],
   "source": [
    "def all_cap_characters(script):\n",
    "    lines = []\n",
    "    for i,line in enumerate(script):\n",
    "        character = find_all_capital(line)\n",
    "        if(character):\n",
    "            tokens = nltk.word_tokenize(character)\n",
    "            T = set(tokens)\n",
    "            flag_1 = T.intersection(A)\n",
    "            flag_2 = character.count(' ') < 3\n",
    "            flag_3 = find_nouns(character)\n",
    "            if(not flag_1 and flag_2 and flag_3):  lines = lines+[str(i)+' '+character.strip()]\n",
    "    return lines\n",
    "\n",
    "def one_cap_characters(script):\n",
    "    lines = []\n",
    "    for i,line in enumerate(script):\n",
    "        character = find_one_capital(line)\n",
    "        if(character):\n",
    "            tokens = nltk.word_tokenize(character)\n",
    "            T = set(tokens)\n",
    "            flag_1 = T.intersection(A)\n",
    "            flag_2 = character.count(' ') < 3\n",
    "            flag_3 = find_nouns(character)\n",
    "            if(not flag_1 and flag_2 and flag_3):  lines = lines +[str(i)+' '+character.strip()] \n",
    "    return lines"
   ]
  },
  {
   "cell_type": "code",
   "execution_count": 9,
   "metadata": {
    "collapsed": true
   },
   "outputs": [],
   "source": [
    "def characters(script):\n",
    "    all_cap = all_cap_characters(script)\n",
    "    one_cap = one_cap_characters(script)\n",
    "    if(len(all_cap) > len(one_cap)): return all_cap\n",
    "    else: return one_cap"
   ]
  },
  {
   "cell_type": "code",
   "execution_count": 10,
   "metadata": {
    "collapsed": true,
    "scrolled": true
   },
   "outputs": [],
   "source": [
    "def dialogues(script, characters):\n",
    "    lineas=[]\n",
    "    for idx, line in enumerate(characters #el enumerate es nuevos\n",
    "        flag = 1\n",
    "        nline = int(re.findall(r'^[0-9]+', line)[0])\n",
    "        nextnline = int(re.findall(r'^[0-9]+', characters[(idx+1)% len(characters)])[0])\n",
    "        personaje = re.sub(r'[0-9]+', '', line)\n",
    "        dialogue = ''\n",
    "        len_max = len(script)\n",
    "        while(flag):\n",
    "            dialogue = dialogue + ' '+ script[nline] #hacer nline+1 para quitar el personaje\n",
    "            if((nline+1 < len_max) & (nline+1 < nextnline)): flag = len(script[nline+1])\n",
    "            else: flag = 0\n",
    "            nline += 1\n",
    "        lineas = np.append(lineas, dialogue)\n",
    "    lineas = list(lineas)\n",
    "    return lineas"
   ]
  },
  {
   "cell_type": "code",
   "execution_count": 12,
   "metadata": {
    "collapsed": true
   },
   "outputs": [],
   "source": [
    "def title(script):\n",
    "    for line in script:\n",
    "        title = re.findall(r'[A-Z]+', line)\n",
    "        if len(title)!=0: break\n",
    "    title = ' '.join(title)  \n",
    "    return title\n",
    "\n",
    "def prefijo(cadena, n=10):\n",
    "    return hashlib.md5(cadena.encode()).hexdigest()[:n]"
   ]
  },
  {
   "cell_type": "markdown",
   "metadata": {},
   "source": [
    "## Limpieza, extracción de personajes y extracción de diálogo"
   ]
  },
  {
   "cell_type": "code",
   "execution_count": 164,
   "metadata": {
    "collapsed": true
   },
   "outputs": [],
   "source": [
    "for movie in movies[-1:-0]:\n",
    "    dic = chardet.detect(open(movie, 'rb').read())\n",
    "    fmovie = open(movie,'r', encoding = dic['encoding']).readlines()\n",
    "    \n",
    "    cmovie = clean(fmovie)\n",
    "    personajes = characters(cmovie)\n",
    "    dialogos = dialogues(cmovie, personajes)\n",
    "    \n",
    "    titulo = title(cmovie)\n",
    "    hashname = prefijo(titulo)\n",
    "    \n",
    "    save(cmovie,     root_scripts,    hashname+'_guion.txt')\n",
    "    save(personajes, root_personajes, hashname+'_personajes.txt')\n",
    "    save(dialogos,   root_dialogos,   hashname+'_dialogos.txt')"
   ]
  },
  {
   "cell_type": "code",
   "execution_count": 165,
   "metadata": {},
   "outputs": [
    {
     "data": {
      "text/plain": [
       "41"
      ]
     },
     "execution_count": 165,
     "metadata": {},
     "output_type": "execute_result"
    }
   ],
   "source": [
    "not_running =[movies[36], movies[61], movies[130],movies[136],movies[167],movies[172],movies[209],movies[224],\n",
    "      movies[273],movies[279],movies[284],movies[298],movies[314],movies[374],movies[397],movies[410],\n",
    "      movies[422],movies[424],movies[508],movies[527],movies[556],movies[566],movies[568],movies[624],\n",
    "      movies[625],movies[629],movies[729],movies[756],movies[820],movies[827],movies[900],movies[906],\n",
    "      movies[913],movies[958],movies[988],movies[1012],movies[1024],movies[1033], movies[1048], movies[1050],\n",
    "      movies[1085]]\n",
    "len(not_running)"
   ]
  },
  {
   "cell_type": "code",
   "execution_count": null,
   "metadata": {
    "collapsed": true
   },
   "outputs": [],
   "source": []
  },
  {
   "cell_type": "code",
   "execution_count": null,
   "metadata": {
    "collapsed": true
   },
   "outputs": [],
   "source": []
  }
 ],
 "metadata": {
  "kernelspec": {
   "display_name": "Python 3",
   "language": "python",
   "name": "python3"
  },
  "language_info": {
   "codemirror_mode": {
    "name": "ipython",
    "version": 3
   },
   "file_extension": ".py",
   "mimetype": "text/x-python",
   "name": "python",
   "nbconvert_exporter": "python",
   "pygments_lexer": "ipython3",
   "version": "3.6.3"
  }
 },
 "nbformat": 4,
 "nbformat_minor": 2
}
